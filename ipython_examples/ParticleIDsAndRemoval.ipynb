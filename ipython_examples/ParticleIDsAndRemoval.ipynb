{
 "cells": [
  {
   "cell_type": "markdown",
   "metadata": {},
   "source": [
    "# Assigning particles unique IDs and removing particles from the simulation\n",
    "\n",
    "For some applications, it is useful to keep track of which particle is which, and this can get jumbled up when particles are added or removed from the simulation.  It can thefore be useful for particles to have unique IDs associated with them.\n",
    "\n",
    "Let's set up a simple simulation with 10 bodies, and give them IDs in the order we add the particles (if you don't set them explicitly, all particle IDs default to 0):"
   ]
  },
  {
   "cell_type": "code",
   "execution_count": 1,
   "metadata": {
    "collapsed": false
   },
   "outputs": [
    {
     "name": "stdout",
     "output_type": "stream",
     "text": [
      "[0, 1, 2, 3, 4, 5, 6, 7, 8, 9]\n"
     ]
    }
   ],
   "source": [
    "import rebound\n",
    "import numpy as np\n",
    "\n",
    "def setupSimulation(Nplanets):\n",
    "    sim = rebound.Simulation()\n",
    "    sim.integrator = \"ias15\" # IAS15 is the default integrator, so we don't need this line\n",
    "    sim.add(m=1.,id=0)\n",
    "    for i in range(1,Nbodies):\n",
    "        sim.add(m=1e-5,x=i,vy=i**(-0.5),id=i)\n",
    "    sim.move_to_com()\n",
    "    return sim\n",
    "\n",
    "Nbodies=10\n",
    "sim = setupSimulation(Nbodies)\n",
    "print([sim.particles[i].id for i in range(sim.N)])"
   ]
  },
  {
   "cell_type": "markdown",
   "metadata": {},
   "source": [
    "Now let's do a simple example where we do a short initial integration to isolate the particles that interest us for a longer simulation:"
   ]
  },
  {
   "cell_type": "code",
   "execution_count": 2,
   "metadata": {
    "collapsed": false
   },
   "outputs": [
    {
     "data": {
      "image/png": "[encoded data removed]",
      "text/plain": [
       "<matplotlib.figure.Figure at 0x10d56e210>"
      ]
     },
     "metadata": {},
     "output_type": "display_data"
    }
   ],
   "source": [
    "Noutputs = 1000\n",
    "xs = np.zeros((Nbodies, Noutputs))\n",
    "ys = np.zeros((Nbodies, Noutputs))\n",
    "times = np.linspace(0.,50*2.*np.pi, Noutputs, endpoint=False)\n",
    "for i, time in enumerate(times):\n",
    "    sim.integrate(time)\n",
    "    xs[:,i] = [sim.particles[j].x for j in range(Nbodies)]\n",
    "    ys[:,i] = [sim.particles[j].y for j in range(Nbodies)]\n",
    "%matplotlib inline\n",
    "import matplotlib.pyplot as plt\n",
    "fig,ax = plt.subplots(figsize=(15,5))\n",
    "for i in range(Nbodies):\n",
    "    plt.plot(xs[i,:], ys[i,:])\n",
    "ax.set_aspect('equal')"
   ]
  },
  {
   "cell_type": "markdown",
   "metadata": {},
   "source": [
    "At this stage, we might be interested in particles that remained within some semimajor axis range, particles that were in resonance with a particular planet, etc.  Let's imagine a simple (albeit arbitrary) case where we only want to keep particles that had $x > 0$ at the end of the preliminary integration. Let's first print out the particle ID and x position."
   ]
  },
  {
   "cell_type": "code",
   "execution_count": 3,
   "metadata": {
    "collapsed": false
   },
   "outputs": [
    {
     "name": "stdout",
     "output_type": "stream",
     "text": [
      "ID\tx\n",
      "0\t6.82422856846e-05\n",
      "1\t0.991001690909\n",
      "2\t-0.938416458567\n",
      "3\t-2.16909675239\n",
      "4\t-0.0073018056096\n",
      "5\t-4.9263375846\n",
      "6\t-4.91601116735\n",
      "7\t-2.1198298552\n",
      "8\t1.96480987036\n",
      "9\t5.29695349399\n"
     ]
    }
   ],
   "source": [
    "print(\"ID\\tx\")\n",
    "for i in range(Nbodies):\n",
    "    print(\"{0}\\t{1}\".format(i, xs[i,-1]))"
   ]
  },
  {
   "cell_type": "markdown",
   "metadata": {},
   "source": [
    "Next, let's use the `remove()` function to filter out particle. As an argument, we pass the corresponding index in the particles array."
   ]
  },
  {
   "cell_type": "code",
   "execution_count": 4,
   "metadata": {
    "collapsed": false
   },
   "outputs": [
    {
     "name": "stdout",
     "output_type": "stream",
     "text": [
      "Number of particles after cut = 4\n",
      "IDs of remaining particles = [0, 1, 8, 9]\n"
     ]
    }
   ],
   "source": [
    "for i in reversed(range(1,Nbodies)):\n",
    "    if xs[i,-1] < 0:\n",
    "        sim.remove(i)\n",
    "print(\"Number of particles after cut = {0}\".format(sim.N))\n",
    "print(\"IDs of remaining particles = {0}\".format([p.id for p in sim.particles]))"
   ]
  },
  {
   "cell_type": "markdown",
   "metadata": {},
   "source": [
    "By default, the `remove()` function removes the `i`-th particle from the `particles` array, and shifts all particles with higher indices down by 1.  This ensures that the original order in the `particles` array is preserved (e.g., to help with output).\n",
    "\n",
    "By running through the planets in reverse order above, we are guaranteed that when a particle with index `i` gets removed, the particle replacing it doesn't need to also be removed (we already checked it).\n",
    "\n",
    "If you have many particles and many removals (or you don't care about the ordering), you can save the reshuffling of all particles with higher indices with the flag `keepSorted=0`:"
   ]
  },
  {
   "cell_type": "code",
   "execution_count": 5,
   "metadata": {
    "collapsed": false
   },
   "outputs": [
    {
     "name": "stdout",
     "output_type": "stream",
     "text": [
      "Number of particles after cut = 3\n",
      "IDs of remaining particles = [0, 1, 9]\n"
     ]
    }
   ],
   "source": [
    "sim.remove(2, keepSorted=0)\n",
    "print(\"Number of particles after cut = {0}\".format(sim.N))\n",
    "print(\"IDs of remaining particles = {0}\".format([p.id for p in sim.particles]))"
   ]
  },
  {
   "cell_type": "markdown",
   "metadata": {},
   "source": [
    "We see that the `particles` array is no longer sorted by ID.  Note that the default `keepSorted=1` only *keeps* things sorted (i.e., if they were sorted by ID to start with).  If you custom-assign IDs out of order as you add particles, the default will simply preserve the original order.\n",
    "\n",
    "You might also have been surprised that the above `sim.remove(2, keepSorted=0)` succeeded, since there was no `id=2` left in the simulation.  That's because `remove()` takes the index in the particles array, so we removed the 3rd particle (with `id=4`).  If you'd like to remove a particle by `id`, use the `id` keyword, e.g."
   ]
  },
  {
   "cell_type": "code",
   "execution_count": 6,
   "metadata": {
    "collapsed": false
   },
   "outputs": [
    {
     "name": "stdout",
     "output_type": "stream",
     "text": [
      "Number of particles after cut = 2\n",
      "IDs of remaining particles = [0, 1]\n"
     ]
    }
   ],
   "source": [
    "sim.remove(id=9)\n",
    "print(\"Number of particles after cut = {0}\".format(sim.N))\n",
    "print(\"IDs of remaining particles = {0}\".format([p.id for p in sim.particles]))"
   ]
  }
 ],
 "metadata": {
  "kernelspec": {
   "display_name": "Python 3",
   "language": "python",
   "name": "python3"
  },
  "language_info": {
   "codemirror_mode": {
    "name": "ipython",
    "version": 3
   },
   "file_extension": ".py",
   "mimetype": "text/x-python",
   "name": "python",
   "nbconvert_exporter": "python",
   "pygments_lexer": "ipython3",
   "version": "3.4.3"
  }
 },
 "nbformat": 4,
 "nbformat_minor": 0
}
